{
 "cells": [
  {
   "cell_type": "markdown",
   "id": "7baf0e40",
   "metadata": {},
   "source": [
    "### Data and code for Chiacchierini et al (2022). Restriction of dietary protein in rats increases progressive-ratio motivation for protein."
   ]
  },
  {
   "cell_type": "markdown",
   "id": "6ac2617a",
   "metadata": {},
   "source": [
    "This notebook contains code that will download data from a repository and extract parameters into pandas dataframes. Figures from the paper are also recreated using matplotlib.\n",
    "\n",
    "The raw datafiles are Med Associates files in the stripped format. Timestamps of individual lever presses and reward deliveries are included in the raw datafiles and can be extracted but are not used here."
   ]
  },
  {
   "cell_type": "code",
   "execution_count": 1,
   "id": "4df96dbd",
   "metadata": {},
   "outputs": [],
   "source": [
    "import numpy as np\n",
    "import trompy as tp\n",
    "import pandas as pd\n",
    "\n",
    "import matplotlib.pyplot as plt\n",
    "\n",
    "from lifelines import KaplanMeierFitter\n",
    "\n",
    "%matplotlib inline"
   ]
  },
  {
   "cell_type": "markdown",
   "id": "f1e60ade",
   "metadata": {},
   "source": [
    "#### Downloading data"
   ]
  },
  {
   "cell_type": "code",
   "execution_count": 23,
   "id": "7c818609",
   "metadata": {},
   "outputs": [
    {
     "name": "stdout",
     "output_type": "stream",
     "text": [
      "C:\\Github\\PRPR\n",
      "downloading data...\n",
      "...100%, 1 MB, 3260 KB/s, 0 seconds elapsedunzipping data...\n",
      "Datafiles ready\n"
     ]
    }
   ],
   "source": [
    "tp.download_data(url = \"https://zenodo.org/record/5409201/files/PRPR_data.zip?download=1\")"
   ]
  },
  {
   "cell_type": "markdown",
   "id": "67b40ea9",
   "metadata": {},
   "source": [
    "#### Extraction of data for experiment 1 (grain pellets)\n",
    "Data are stored in pandas dataframe, *df_grain*"
   ]
  },
  {
   "cell_type": "code",
   "execution_count": 24,
   "id": "6a74722e",
   "metadata": {},
   "outputs": [
    {
     "name": "stdout",
     "output_type": "stream",
     "text": [
      "File is excel file. Making csv metafile first\n"
     ]
    }
   ],
   "source": [
    "rows, header = tp.metafilereader(\".\\\\data\\\\PRPR_metafiles.xls\", sheetname='metafile_exp1')\n",
    "\n",
    "filestub = \".//data//PRPR_exp1//\"\n",
    "\n",
    "columns = [\"rat\", \"diet\", \"ratio\", \"day\", \"pellet\", \"responses\", \"rewards\", \"breakpoint\", \"stopped\"]\n",
    "df = pd.DataFrame(columns=columns)\n",
    "\n",
    "FR_sessions = [\"FR1\", \"FR2\", \"FR5\", \"PR3\"]\n",
    "\n",
    "for row in rows:\n",
    "    if row[6] in FR_sessions:\n",
    "        try:\n",
    "            temp = [row[1], row[4], row[6], row[2], row[7]]\n",
    "            resps, rewards, stop, breakp = tp.medfilereader(filestub + row[0], varsToExtract=[\"a\", \"c\", \"t\", \"x\"])\n",
    "            temp.append(resps[0])\n",
    "            temp.append(rewards[0])\n",
    "            if resps[0] != row[8]:\n",
    "                print(\"For {} day {}, {} does not equal {}\".format(row[1], row[2], resps[0], row[8]))\n",
    "            if rewards[0] != row[9]:\n",
    "                print(\"For {} day {}, {} does not equal {}\".format(row[1], row[2], rewards[0], row[9]))\n",
    "\n",
    "            temp.append(breakp[0])\n",
    "            temp.append(stop[0])\n",
    "\n",
    "            df.loc[df.shape[0]] = temp\n",
    "        except FileNotFoundError:\n",
    "            print(row[0], \"cannot be found. Check\", row[1], row[2])\n",
    "\n",
    "df = df[df.rat != \"PPR2.4\"]\n",
    "df_grain = df\n"
   ]
  },
  {
   "cell_type": "code",
   "execution_count": 4,
   "id": "fb250dd8",
   "metadata": {},
   "outputs": [
    {
     "name": "stdout",
     "output_type": "stream",
     "text": [
      "File is excel file. Making csv metafile first\n"
     ]
    }
   ],
   "source": [
    "rows, header = tp.metafilereader(\".\\\\data\\\\PRPR_metafiles.xls\", sheetname='freeaccess_exp1')\n",
    "\n",
    "df = pd.DataFrame(columns=[\"rat\", \"diet\", \"d1\", \"d2\", \"mean\"])\n",
    "\n",
    "for row in rows:\n",
    "    temp = [row[0], row[1], row[2], row[3], np.mean([row[2], row[3]])]\n",
    "    df.loc[df.shape[0]] = temp\n",
    "    \n",
    "df = df[df.rat != \"PPR2.4\"]\n",
    "df_grain_freeaccess = df"
   ]
  },
  {
   "cell_type": "markdown",
   "id": "6c5314bc",
   "metadata": {},
   "source": [
    "#### Extraction of data for experiment 2 (protein pellets)\n",
    "Data are stored in pandas dataframe, *df_protein*"
   ]
  },
  {
   "cell_type": "code",
   "execution_count": 5,
   "id": "ac7e430f",
   "metadata": {},
   "outputs": [
    {
     "name": "stdout",
     "output_type": "stream",
     "text": [
      "File is excel file. Making csv metafile first\n"
     ]
    }
   ],
   "source": [
    "rows, header = tp.metafilereader(\".\\\\data\\\\PRPR_metafiles.xls\", sheetname='metafile_exp2')\n",
    "\n",
    "filestub = \".//data//PRPR_exp2//\"\n",
    "\n",
    "columns = [\"rat\", \"diet\", \"ratio\", \"day\", \"pellet\", \"responses\", \"rewards\", \"breakpoint\", \"stopped\"]\n",
    "df = pd.DataFrame(columns=columns)\n",
    "\n",
    "FR_sessions = [\"FR1\", \"FR2\", \"FR5\", \"PR3\", \"PR3-rep\"]\n",
    "\n",
    "for row in rows:\n",
    "    if row[6] in FR_sessions:\n",
    "        try:\n",
    "            temp = [row[1], row[4], row[6], row[2], row[7]]\n",
    "            resps, rewards, stop, breakp = tp.medfilereader(filestub + row[0], varsToExtract=[\"a\", \"c\", \"t\", \"x\"])\n",
    "            temp.append(resps[0])\n",
    "            temp.append(rewards[0])\n",
    "            if resps[0] != row[8]:\n",
    "                print(\"For {} day {}, {} does not equal {}\".format(row[1], row[2], resps, row[8]))\n",
    "            if rewards[0] != row[9]:\n",
    "                print(\"For {} day {}, {} does not equal {}\".format(row[1], row[2], rewards, row[9]))\n",
    "\n",
    "            temp.append(breakp[0])\n",
    "            temp.append(stop[0])\n",
    "\n",
    "            df.loc[df.shape[0]] = temp\n",
    "            \n",
    "        except FileNotFoundError:\n",
    "            print(row[0], \"cannot be found. Check\", row[1], row[2])\n",
    "            temp = [row[1], row[4], row[6], row[2], row[7], row[8], row[9], 0, 0]\n",
    "            df.loc[df.shape[0]] = temp\n",
    "                       \n",
    "df = df[df.rat != \"cPPR1.9\"]      \n",
    "df_protein = df"
   ]
  },
  {
   "cell_type": "code",
   "execution_count": 6,
   "id": "68343c1d",
   "metadata": {},
   "outputs": [
    {
     "data": {
      "text/html": [
       "<div>\n",
       "<style scoped>\n",
       "    .dataframe tbody tr th:only-of-type {\n",
       "        vertical-align: middle;\n",
       "    }\n",
       "\n",
       "    .dataframe tbody tr th {\n",
       "        vertical-align: top;\n",
       "    }\n",
       "\n",
       "    .dataframe thead th {\n",
       "        text-align: right;\n",
       "    }\n",
       "</style>\n",
       "<table border=\"1\" class=\"dataframe\">\n",
       "  <thead>\n",
       "    <tr style=\"text-align: right;\">\n",
       "      <th></th>\n",
       "      <th>rat</th>\n",
       "      <th>diet</th>\n",
       "      <th>ratio</th>\n",
       "      <th>day</th>\n",
       "      <th>pellet</th>\n",
       "      <th>responses</th>\n",
       "      <th>rewards</th>\n",
       "      <th>breakpoint</th>\n",
       "      <th>stopped</th>\n",
       "    </tr>\n",
       "  </thead>\n",
       "  <tbody>\n",
       "    <tr>\n",
       "      <th>176</th>\n",
       "      <td>cPPR1.1</td>\n",
       "      <td>NR</td>\n",
       "      <td>FR5</td>\n",
       "      <td>15.0</td>\n",
       "      <td>protein</td>\n",
       "      <td>241.0</td>\n",
       "      <td>41.0</td>\n",
       "      <td>0.0</td>\n",
       "      <td>2700.796</td>\n",
       "    </tr>\n",
       "    <tr>\n",
       "      <th>177</th>\n",
       "      <td>cPPR1.2</td>\n",
       "      <td>NR</td>\n",
       "      <td>FR5</td>\n",
       "      <td>15.0</td>\n",
       "      <td>protein</td>\n",
       "      <td>263.0</td>\n",
       "      <td>44.0</td>\n",
       "      <td>0.0</td>\n",
       "      <td>2700.796</td>\n",
       "    </tr>\n",
       "    <tr>\n",
       "      <th>178</th>\n",
       "      <td>cPPR1.3</td>\n",
       "      <td>NR</td>\n",
       "      <td>FR5</td>\n",
       "      <td>15.0</td>\n",
       "      <td>protein</td>\n",
       "      <td>285.0</td>\n",
       "      <td>46.0</td>\n",
       "      <td>0.0</td>\n",
       "      <td>2700.796</td>\n",
       "    </tr>\n",
       "    <tr>\n",
       "      <th>179</th>\n",
       "      <td>cPPR1.4</td>\n",
       "      <td>NR</td>\n",
       "      <td>FR5</td>\n",
       "      <td>15.0</td>\n",
       "      <td>protein</td>\n",
       "      <td>150.0</td>\n",
       "      <td>28.0</td>\n",
       "      <td>0.0</td>\n",
       "      <td>2700.796</td>\n",
       "    </tr>\n",
       "    <tr>\n",
       "      <th>180</th>\n",
       "      <td>cPPR1.5</td>\n",
       "      <td>NR</td>\n",
       "      <td>FR5</td>\n",
       "      <td>15.0</td>\n",
       "      <td>protein</td>\n",
       "      <td>119.0</td>\n",
       "      <td>21.0</td>\n",
       "      <td>0.0</td>\n",
       "      <td>2700.796</td>\n",
       "    </tr>\n",
       "    <tr>\n",
       "      <th>181</th>\n",
       "      <td>cPPR1.6</td>\n",
       "      <td>NR</td>\n",
       "      <td>FR5</td>\n",
       "      <td>15.0</td>\n",
       "      <td>protein</td>\n",
       "      <td>179.0</td>\n",
       "      <td>35.0</td>\n",
       "      <td>0.0</td>\n",
       "      <td>2700.796</td>\n",
       "    </tr>\n",
       "    <tr>\n",
       "      <th>182</th>\n",
       "      <td>cPPR1.7</td>\n",
       "      <td>NR</td>\n",
       "      <td>FR5</td>\n",
       "      <td>15.0</td>\n",
       "      <td>protein</td>\n",
       "      <td>488.0</td>\n",
       "      <td>86.0</td>\n",
       "      <td>0.0</td>\n",
       "      <td>2700.796</td>\n",
       "    </tr>\n",
       "    <tr>\n",
       "      <th>183</th>\n",
       "      <td>cPPR1.8</td>\n",
       "      <td>NR</td>\n",
       "      <td>FR5</td>\n",
       "      <td>15.0</td>\n",
       "      <td>protein</td>\n",
       "      <td>269.0</td>\n",
       "      <td>50.0</td>\n",
       "      <td>0.0</td>\n",
       "      <td>2700.796</td>\n",
       "    </tr>\n",
       "    <tr>\n",
       "      <th>185</th>\n",
       "      <td>cPPR1.10</td>\n",
       "      <td>PR</td>\n",
       "      <td>FR5</td>\n",
       "      <td>15.0</td>\n",
       "      <td>protein</td>\n",
       "      <td>563.0</td>\n",
       "      <td>100.0</td>\n",
       "      <td>0.0</td>\n",
       "      <td>1324.450</td>\n",
       "    </tr>\n",
       "    <tr>\n",
       "      <th>186</th>\n",
       "      <td>cPPR1.11</td>\n",
       "      <td>PR</td>\n",
       "      <td>FR5</td>\n",
       "      <td>15.0</td>\n",
       "      <td>protein</td>\n",
       "      <td>528.0</td>\n",
       "      <td>74.0</td>\n",
       "      <td>0.0</td>\n",
       "      <td>2700.796</td>\n",
       "    </tr>\n",
       "    <tr>\n",
       "      <th>187</th>\n",
       "      <td>cPPR1.12</td>\n",
       "      <td>PR</td>\n",
       "      <td>FR5</td>\n",
       "      <td>15.0</td>\n",
       "      <td>protein</td>\n",
       "      <td>592.0</td>\n",
       "      <td>100.0</td>\n",
       "      <td>0.0</td>\n",
       "      <td>1433.408</td>\n",
       "    </tr>\n",
       "    <tr>\n",
       "      <th>188</th>\n",
       "      <td>cPPR1.13</td>\n",
       "      <td>PR</td>\n",
       "      <td>FR5</td>\n",
       "      <td>15.0</td>\n",
       "      <td>protein</td>\n",
       "      <td>424.0</td>\n",
       "      <td>73.0</td>\n",
       "      <td>0.0</td>\n",
       "      <td>2700.796</td>\n",
       "    </tr>\n",
       "    <tr>\n",
       "      <th>189</th>\n",
       "      <td>cPPR1.14</td>\n",
       "      <td>PR</td>\n",
       "      <td>FR5</td>\n",
       "      <td>15.0</td>\n",
       "      <td>protein</td>\n",
       "      <td>1.0</td>\n",
       "      <td>0.0</td>\n",
       "      <td>0.0</td>\n",
       "      <td>2700.796</td>\n",
       "    </tr>\n",
       "    <tr>\n",
       "      <th>190</th>\n",
       "      <td>cPPR1.15</td>\n",
       "      <td>PR</td>\n",
       "      <td>FR5</td>\n",
       "      <td>15.0</td>\n",
       "      <td>protein</td>\n",
       "      <td>749.0</td>\n",
       "      <td>100.0</td>\n",
       "      <td>0.0</td>\n",
       "      <td>2280.243</td>\n",
       "    </tr>\n",
       "    <tr>\n",
       "      <th>191</th>\n",
       "      <td>cPPR1.16</td>\n",
       "      <td>PR</td>\n",
       "      <td>FR5</td>\n",
       "      <td>15.0</td>\n",
       "      <td>protein</td>\n",
       "      <td>554.0</td>\n",
       "      <td>100.0</td>\n",
       "      <td>0.0</td>\n",
       "      <td>2315.183</td>\n",
       "    </tr>\n",
       "  </tbody>\n",
       "</table>\n",
       "</div>"
      ],
      "text/plain": [
       "          rat diet ratio   day   pellet  responses  rewards  breakpoint  \\\n",
       "176   cPPR1.1   NR   FR5  15.0  protein      241.0     41.0         0.0   \n",
       "177   cPPR1.2   NR   FR5  15.0  protein      263.0     44.0         0.0   \n",
       "178   cPPR1.3   NR   FR5  15.0  protein      285.0     46.0         0.0   \n",
       "179   cPPR1.4   NR   FR5  15.0  protein      150.0     28.0         0.0   \n",
       "180   cPPR1.5   NR   FR5  15.0  protein      119.0     21.0         0.0   \n",
       "181   cPPR1.6   NR   FR5  15.0  protein      179.0     35.0         0.0   \n",
       "182   cPPR1.7   NR   FR5  15.0  protein      488.0     86.0         0.0   \n",
       "183   cPPR1.8   NR   FR5  15.0  protein      269.0     50.0         0.0   \n",
       "185  cPPR1.10   PR   FR5  15.0  protein      563.0    100.0         0.0   \n",
       "186  cPPR1.11   PR   FR5  15.0  protein      528.0     74.0         0.0   \n",
       "187  cPPR1.12   PR   FR5  15.0  protein      592.0    100.0         0.0   \n",
       "188  cPPR1.13   PR   FR5  15.0  protein      424.0     73.0         0.0   \n",
       "189  cPPR1.14   PR   FR5  15.0  protein        1.0      0.0         0.0   \n",
       "190  cPPR1.15   PR   FR5  15.0  protein      749.0    100.0         0.0   \n",
       "191  cPPR1.16   PR   FR5  15.0  protein      554.0    100.0         0.0   \n",
       "\n",
       "      stopped  \n",
       "176  2700.796  \n",
       "177  2700.796  \n",
       "178  2700.796  \n",
       "179  2700.796  \n",
       "180  2700.796  \n",
       "181  2700.796  \n",
       "182  2700.796  \n",
       "183  2700.796  \n",
       "185  1324.450  \n",
       "186  2700.796  \n",
       "187  1433.408  \n",
       "188  2700.796  \n",
       "189  2700.796  \n",
       "190  2280.243  \n",
       "191  2315.183  "
      ]
     },
     "execution_count": 6,
     "metadata": {},
     "output_type": "execute_result"
    }
   ],
   "source": [
    "df_protein[df_protein[\"day\"] == 15.0]"
   ]
  },
  {
   "cell_type": "code",
   "execution_count": 7,
   "id": "c7789a99",
   "metadata": {},
   "outputs": [
    {
     "name": "stdout",
     "output_type": "stream",
     "text": [
      "File is excel file. Making csv metafile first\n"
     ]
    }
   ],
   "source": [
    "rows, header = tp.metafilereader(\".\\\\data\\\\PRPR_metafiles.xls\", sheetname='freeaccess_exp2')\n",
    "\n",
    "df = pd.DataFrame(columns=[\"rat\", \"diet\", \"d1\", \"d2\", \"mean\"])\n",
    "\n",
    "for row in rows:\n",
    "    temp = [row[0], row[1], row[2], row[3], np.mean([row[2], row[3]])]\n",
    "    df.loc[df.shape[0]] = temp\n",
    "    \n",
    "df = df[df.rat != \"cPPR1.9\"]\n",
    "df_protein_freeaccess = df"
   ]
  },
  {
   "cell_type": "markdown",
   "id": "6b62be29",
   "metadata": {},
   "source": [
    "#### Writes dataframes to an Excel sheet, *output.xlsx*"
   ]
  },
  {
   "cell_type": "code",
   "execution_count": 8,
   "id": "0101eee4",
   "metadata": {},
   "outputs": [],
   "source": [
    "with pd.ExcelWriter('output.xlsx') as writer:\n",
    "    df_grain.to_excel(writer, sheet_name='grain')\n",
    "    df_grain_freeaccess.to_excel(writer, sheet_name='grain_freeaccess')\n",
    "    df_protein.to_excel(writer, sheet_name='protein')\n",
    "    df_protein_freeaccess.to_excel(writer, sheet_name='protein_freeaccess')"
   ]
  },
  {
   "cell_type": "markdown",
   "id": "b4314f2a",
   "metadata": {},
   "source": [
    "#### Function for making fixed ratio figures (1B and 2B)"
   ]
  },
  {
   "cell_type": "code",
   "execution_count": 9,
   "id": "2fe11daa",
   "metadata": {},
   "outputs": [],
   "source": [
    "def make_FR_figure(df, colors = [\"grey\", \"red\"]):\n",
    "\n",
    "    df = df[df[\"ratio\"] != \"PR3\"]\n",
    "\n",
    "    df_subset = df[df[\"diet\"] == \"NR\"]\n",
    "    df_NR = df_subset.pivot(index=\"rat\", columns=\"day\")[\"responses\"]\n",
    "    \n",
    "    df_subset = df[df[\"diet\"] == \"PR\"]\n",
    "    df_PR = df_subset.pivot(index=\"rat\", columns=\"day\")[\"responses\"]\n",
    "\n",
    "    NR_mean = list(df_NR.mean(axis=0))\n",
    "    NR_sem = list(df_NR.sem(axis=0))\n",
    "    \n",
    "    PR_mean = list(df_PR.mean(axis=0))\n",
    "    PR_sem = list(df_PR.sem(axis=0))\n",
    "\n",
    "    FR1x = np.arange(1,6)\n",
    "    FR2x = np.arange(6,11)\n",
    "    FR5x = np.arange(11,16)\n",
    "\n",
    "    f, ax = plt.subplots()\n",
    "\n",
    "    ax.errorbar(FR1x, NR_mean[:5], yerr=NR_sem[:5], color=colors[0], label=\"NR\")\n",
    "    ax.errorbar(FR2x, NR_mean[5:10], yerr=NR_sem[5:10], color=colors[0])\n",
    "    ax.errorbar(FR5x, NR_mean[10:15], yerr=NR_sem[10:15], color=colors[0])\n",
    "    \n",
    "    ax.errorbar(FR1x, PR_mean[:5], yerr=PR_sem[:5], color=colors[1], label=\"PR\")\n",
    "    ax.errorbar(FR2x, PR_mean[5:10], yerr=PR_sem[5:10], color=colors[1])\n",
    "    ax.errorbar(FR5x, PR_mean[10:15], yerr=PR_sem[10:15], color=colors[1])\n",
    "\n",
    "    ax.set_ylabel(\"Responses\")\n",
    "    ax.set_xticks([3, 9, 15])\n",
    "    ax.set_xticklabels([\"FR1\", \"FR2\", \"FR5\"])\n",
    "\n",
    "    ax.legend(loc=\"upper left\")\n"
   ]
  },
  {
   "cell_type": "code",
   "execution_count": 10,
   "id": "462cc898",
   "metadata": {},
   "outputs": [],
   "source": [
    "# Function for making progressive ratio figures (1C,D and 2C, D)\n",
    "\n",
    "def make_PR_figure(df, colors=[\"grey\", \"red\"]):\n",
    "    \n",
    "    df = df[df[\"ratio\"] == \"PR3\"]\n",
    "\n",
    "    df_subset = df[df[\"diet\"] == \"NR\"]\n",
    "    df_NR = df_subset.pivot(index=\"rat\", columns=\"day\")[\"breakpoint\"]\n",
    "\n",
    "    df_subset = df[df[\"diet\"] == \"PR\"]\n",
    "    df_PR = df_subset.pivot(index=\"rat\", columns=\"day\")[\"breakpoint\"]\n",
    "\n",
    "    NRx = np.arange(1, 6)\n",
    "    PRx = np.arange(7, 12)\n",
    "\n",
    "    f, [ax1, ax2] = plt.subplots(ncols=2, sharey=True, gridspec_kw={'width_ratios':[2,1]})\n",
    "\n",
    "    ax1.bar(NRx, df_NR.mean(), color=colors[0], label=\"NR\")\n",
    "    ax1.bar(PRx, df_PR.mean(), color=colors[1], label=\"PR\")\n",
    "\n",
    "    for rat in df_NR.iterrows():\n",
    "        ax1.plot(NRx, rat[1], color=\"xkcd:light grey\")\n",
    "\n",
    "    for rat in df_PR.iterrows():\n",
    "        ax1.plot(PRx, rat[1], color=\"xkcd:light grey\")\n",
    "\n",
    "    ax1.set_ylabel(\"Breakpoint\")\n",
    "    ax1.set_xlabel(\"Session\")\n",
    "    ax1.set_xticks([1,2,3,4,5,7,8,9,10,11])\n",
    "    ax1.set_xticklabels([str(x) for x in NRx]*2)\n",
    "    ax1.legend()\n",
    "\n",
    "    tp.barscatter([df_NR.mean(axis=1), df_PR.mean(axis=1)], spaced=True, barwidth=0.8,\n",
    "                  barfacecoloroption=\"individual\", barfacecolor=colors, \n",
    "                  barlabels=[\"NR\", \"PR\"], ax=ax2)\n"
   ]
  },
  {
   "cell_type": "code",
   "execution_count": 11,
   "id": "cd3db803",
   "metadata": {},
   "outputs": [],
   "source": [
    "# Functions for making duration survival graphs\n",
    "\n",
    "def get_step_values(df):\n",
    "    \n",
    "    df_new = pd.DataFrame(df.mean(axis=1), columns=[\"mean\"])\n",
    "    df_new[\"min\"] = df.min(axis=1)\n",
    "    df_new[\"max\"] = df.max(axis=1)\n",
    "\n",
    "    df_sorted = df_new.sort_values(\"mean\")\n",
    "\n",
    "    x = [0] + list(df_sorted[\"mean\"])\n",
    "    y = [1] + list(np.linspace(1,0,len(x))[:-1])\n",
    "    \n",
    "    return x, y\n",
    "\n",
    "def make_duration_figure(df, colors=[\"grey\", \"red\"]):\n",
    "\n",
    "    df = df[df[\"ratio\"] == \"PR3\"]\n",
    "\n",
    "    df_subset = df[df[\"diet\"] == \"NR\"]\n",
    "    df_NR = df_subset.pivot(index=\"rat\", columns=\"day\")[\"stopped\"]\n",
    "\n",
    "    df_subset = df[df[\"diet\"] == \"PR\"]\n",
    "    df_PR = df_subset.pivot(index=\"rat\", columns=\"day\")[\"stopped\"]\n",
    "    \n",
    "    NRx, _ = get_step_values(df_NR)\n",
    "    PRx, _ = get_step_values(df_PR)\n",
    "\n",
    "    f, ax = plt.subplots()\n",
    "\n",
    "    T = [x/60 for x in NRx[1:]]\n",
    "    Q = [x/60 for x in PRx[1:]]\n",
    "\n",
    "    kmf_T = KaplanMeierFitter()\n",
    "    kmf_Q = KaplanMeierFitter()\n",
    "    kmf_T.fit(T)\n",
    "    kmf_T.plot(color=colors[0], ax=ax, label=\"NR\")\n",
    "    kmf_Q.fit(Q)\n",
    "    kmf_Q.plot(color=colors[1], ax=ax, label=\"PR\")\n",
    "    \n",
    "    ax.set_ylabel(\"Survival probability\")\n",
    "    ax.set_xlabel(\"Session duration\")"
   ]
  },
  {
   "cell_type": "code",
   "execution_count": 12,
   "id": "4e9bf0a3",
   "metadata": {},
   "outputs": [],
   "source": [
    "# Function for making free acess intake graph\n",
    "\n",
    "def make_freeaccess_figure(df, colors=[\"grey\", \"red\"]):\n",
    "    df_NR = df[df[\"diet\"] == \"NR\"][\"mean\"]\n",
    "    df_PR = df[df[\"diet\"] == \"PR\"][\"mean\"]\n",
    "    \n",
    "    f, ax = plt.subplots(figsize=(1.5, 4))\n",
    "    \n",
    "    tp.barscatter([df_NR, df_PR],\n",
    "                  barlabels=[\"NR\", \"PR\"],\n",
    "                  barfacecoloroption=\"individual\",\n",
    "                  barfacecolor=colors,\n",
    "                  spaced=True,\n",
    "                  ax=ax)\n",
    "    \n",
    "    ax.set_ylabel(\"Intake (g)\")\n",
    "    ax.set_yticks([0,1,2,3,4,5])"
   ]
  },
  {
   "cell_type": "markdown",
   "id": "9cbe907c",
   "metadata": {},
   "source": [
    "# Figures"
   ]
  },
  {
   "cell_type": "markdown",
   "id": "55d8e403",
   "metadata": {},
   "source": [
    "#### Figure 1B"
   ]
  },
  {
   "cell_type": "code",
   "execution_count": 13,
   "id": "493b645c",
   "metadata": {},
   "outputs": [
    {
     "data": {
      "image/png": "[encoded data removed]",
      "text/plain": [
       "<Figure size 432x288 with 1 Axes>"
      ]
     },
     "metadata": {
      "needs_background": "light"
     },
     "output_type": "display_data"
    }
   ],
   "source": [
    "make_FR_figure(df_grain)"
   ]
  },
  {
   "cell_type": "markdown",
   "id": "483f915e",
   "metadata": {},
   "source": [
    "#### Figure 1C and 1D"
   ]
  },
  {
   "cell_type": "code",
   "execution_count": 14,
   "id": "1d166e57",
   "metadata": {},
   "outputs": [
    {
     "name": "stderr",
     "output_type": "stream",
     "text": [
      "C:\\Users\\jmc010\\Miniconda3\\lib\\site-packages\\numpy\\core\\_asarray.py:102: VisibleDeprecationWarning: Creating an ndarray from ragged nested sequences (which is a list-or-tuple of lists-or-tuples-or ndarrays with different lengths or shapes) is deprecated. If you meant to do this, you must specify 'dtype=object' when creating the ndarray.\n",
      "  return array(a, dtype, copy=False, order=order)\n"
     ]
    },
    {
     "data": {
      "image/png": "[encoded data removed]",
      "text/plain": [
       "<Figure size 432x288 with 2 Axes>"
      ]
     },
     "metadata": {
      "needs_background": "light"
     },
     "output_type": "display_data"
    }
   ],
   "source": [
    "make_PR_figure(df_grain)"
   ]
  },
  {
   "cell_type": "markdown",
   "id": "5fd899c2",
   "metadata": {},
   "source": [
    "#### Figure 1E"
   ]
  },
  {
   "cell_type": "code",
   "execution_count": 15,
   "id": "9be5630d",
   "metadata": {},
   "outputs": [
    {
     "data": {
      "image/png": "[encoded data removed]",
      "text/plain": [
       "<Figure size 432x288 with 1 Axes>"
      ]
     },
     "metadata": {
      "needs_background": "light"
     },
     "output_type": "display_data"
    }
   ],
   "source": [
    "make_duration_figure(df_grain)"
   ]
  },
  {
   "cell_type": "markdown",
   "id": "e3c19871",
   "metadata": {},
   "source": [
    "#### Figure 1F"
   ]
  },
  {
   "cell_type": "code",
   "execution_count": 16,
   "id": "04fd4210",
   "metadata": {},
   "outputs": [
    {
     "name": "stderr",
     "output_type": "stream",
     "text": [
      "C:\\Users\\jmc010\\Miniconda3\\lib\\site-packages\\numpy\\core\\_asarray.py:102: VisibleDeprecationWarning: Creating an ndarray from ragged nested sequences (which is a list-or-tuple of lists-or-tuples-or ndarrays with different lengths or shapes) is deprecated. If you meant to do this, you must specify 'dtype=object' when creating the ndarray.\n",
      "  return array(a, dtype, copy=False, order=order)\n"
     ]
    },
    {
     "data": {
      "image/png": "[encoded data removed]",
      "text/plain": [
       "<Figure size 108x288 with 1 Axes>"
      ]
     },
     "metadata": {
      "needs_background": "light"
     },
     "output_type": "display_data"
    }
   ],
   "source": [
    "make_freeaccess_figure(df_grain_freeaccess)"
   ]
  },
  {
   "cell_type": "markdown",
   "id": "fbfe4acd",
   "metadata": {},
   "source": [
    "#### Figure 2B"
   ]
  },
  {
   "cell_type": "code",
   "execution_count": 17,
   "id": "8f282aaa",
   "metadata": {},
   "outputs": [
    {
     "data": {
      "image/png": "[encoded data removed]",
      "text/plain": [
       "<Figure size 432x288 with 1 Axes>"
      ]
     },
     "metadata": {
      "needs_background": "light"
     },
     "output_type": "display_data"
    }
   ],
   "source": [
    "make_FR_figure(df_protein, colors=[\"grey\", \"orange\"])"
   ]
  },
  {
   "cell_type": "markdown",
   "id": "6017756f",
   "metadata": {},
   "source": [
    "#### Figure 2C and 2D"
   ]
  },
  {
   "cell_type": "code",
   "execution_count": 18,
   "id": "e72e395f",
   "metadata": {},
   "outputs": [
    {
     "name": "stderr",
     "output_type": "stream",
     "text": [
      "C:\\Users\\jmc010\\Miniconda3\\lib\\site-packages\\numpy\\core\\_asarray.py:102: VisibleDeprecationWarning: Creating an ndarray from ragged nested sequences (which is a list-or-tuple of lists-or-tuples-or ndarrays with different lengths or shapes) is deprecated. If you meant to do this, you must specify 'dtype=object' when creating the ndarray.\n",
      "  return array(a, dtype, copy=False, order=order)\n"
     ]
    },
    {
     "data": {
      "image/png": "[encoded data removed]",
      "text/plain": [
       "<Figure size 432x288 with 2 Axes>"
      ]
     },
     "metadata": {
      "needs_background": "light"
     },
     "output_type": "display_data"
    }
   ],
   "source": [
    "make_PR_figure(df_protein, colors=[\"grey\", \"orange\"])"
   ]
  },
  {
   "cell_type": "markdown",
   "id": "97c66db5",
   "metadata": {},
   "source": [
    "#### Figure 2E"
   ]
  },
  {
   "cell_type": "code",
   "execution_count": 19,
   "id": "9499f9e1",
   "metadata": {},
   "outputs": [
    {
     "data": {
      "image/png": "[encoded data removed]",
      "text/plain": [
       "<Figure size 432x288 with 1 Axes>"
      ]
     },
     "metadata": {
      "needs_background": "light"
     },
     "output_type": "display_data"
    }
   ],
   "source": [
    "make_duration_figure(df_protein, colors=[\"grey\", \"yellow\"])"
   ]
  },
  {
   "cell_type": "markdown",
   "id": "18d774f7",
   "metadata": {},
   "source": [
    "#### Figure 2F"
   ]
  },
  {
   "cell_type": "code",
   "execution_count": 20,
   "id": "18b0fa03",
   "metadata": {},
   "outputs": [
    {
     "name": "stderr",
     "output_type": "stream",
     "text": [
      "C:\\Users\\jmc010\\Miniconda3\\lib\\site-packages\\numpy\\core\\_asarray.py:102: VisibleDeprecationWarning: Creating an ndarray from ragged nested sequences (which is a list-or-tuple of lists-or-tuples-or ndarrays with different lengths or shapes) is deprecated. If you meant to do this, you must specify 'dtype=object' when creating the ndarray.\n",
      "  return array(a, dtype, copy=False, order=order)\n"
     ]
    },
    {
     "data": {
      "image/png": "[encoded data removed]",
      "text/plain": [
       "<Figure size 108x288 with 1 Axes>"
      ]
     },
     "metadata": {
      "needs_background": "light"
     },
     "output_type": "display_data"
    }
   ],
   "source": [
    "make_freeaccess_figure(df_protein_freeaccess, colors=[\"grey\", \"yellow\"])"
   ]
  },
  {
   "cell_type": "markdown",
   "id": "1d63d09b",
   "metadata": {},
   "source": [
    "#### Figure 3"
   ]
  },
  {
   "cell_type": "code",
   "execution_count": 21,
   "id": "2a76e92b",
   "metadata": {},
   "outputs": [
    {
     "data": {
      "text/plain": [
       "<matplotlib.legend.Legend at 0x20c72b36160>"
      ]
     },
     "execution_count": 21,
     "metadata": {},
     "output_type": "execute_result"
    },
    {
     "data": {
      "image/png": "[encoded data removed]",
      "text/plain": [
       "<Figure size 432x288 with 1 Axes>"
      ]
     },
     "metadata": {
      "needs_background": "light"
     },
     "output_type": "display_data"
    }
   ],
   "source": [
    "df = df_protein\n",
    "colors = [\"grey\", \"yellow\"]\n",
    "\n",
    "df = df[df[\"ratio\"] == \"PR3-rep\"]\n",
    "df_subset = df[df[\"diet\"] == \"NR\"]\n",
    "df_NR = df_subset.pivot(index=\"rat\", columns=\"day\")[\"breakpoint\"]\n",
    "\n",
    "df_subset = df[df[\"diet\"] != \"NR\"]\n",
    "df_PR = df_subset.pivot(index=\"rat\", columns=\"day\")[\"breakpoint\"]\n",
    "\n",
    "NRx = np.arange(1, 8)\n",
    "PRx = np.arange(9, 16)\n",
    "\n",
    "f, ax = plt.subplots()\n",
    "\n",
    "ax.bar(NRx, df_NR.mean(), color=colors[0], label=\"NR\")\n",
    "ax.bar(PRx, df_PR.mean(), color=colors[1], label=\"PR\")\n",
    "\n",
    "for rat in df_NR.iterrows():\n",
    "    ax.plot(NRx, rat[1], color=\"xkcd:light grey\")\n",
    "\n",
    "for rat in df_PR.iterrows():\n",
    "    ax.plot(PRx, rat[1], color=\"xkcd:light grey\")\n",
    "\n",
    "ax.set_ylabel(\"Breakpoint\")\n",
    "ax.set_xlabel(\"Session\")\n",
    "ax.set_xticks([1,2,3,4,5,6,7,   9,10,11,12,13,14,15])\n",
    "ax.set_xticklabels([str(x) for x in NRx]*2)\n",
    "ax.legend()"
   ]
  },
  {
   "cell_type": "markdown",
   "id": "7c3da7cc",
   "metadata": {},
   "source": [
    "#### Figure 4"
   ]
  },
  {
   "cell_type": "code",
   "execution_count": 22,
   "id": "dbe6506e",
   "metadata": {
    "scrolled": true
   },
   "outputs": [
    {
     "data": {
      "text/plain": [
       "<matplotlib.legend.Legend at 0x20c72bd28b0>"
      ]
     },
     "execution_count": 22,
     "metadata": {},
     "output_type": "execute_result"
    },
    {
     "data": {
      "image/png": "[encoded data removed]",
      "text/plain": [
       "<Figure size 432x288 with 1 Axes>"
      ]
     },
     "metadata": {
      "needs_background": "light"
     },
     "output_type": "display_data"
    }
   ],
   "source": [
    "# gets data from grain pellet sessions\n",
    "df = df_grain\n",
    "df = df[df[\"ratio\"] == \"PR3\"]\n",
    "\n",
    "df_subset = df[df[\"diet\"] == \"NR\"]\n",
    "df_NR = df_subset.pivot(index=\"rat\", columns=\"day\")[\"breakpoint\"]\n",
    "\n",
    "df_subset = df[df[\"diet\"] == \"PR\"]\n",
    "df_PR = df_subset.pivot(index=\"rat\", columns=\"day\")[\"breakpoint\"]\n",
    "\n",
    "NR_grain = tp.mean_and_sem(df_NR.mean(axis=1))\n",
    "PR_grain = tp.mean_and_sem(df_PR.mean(axis=1))\n",
    "\n",
    "# gets data from protein pellet sessions\n",
    "df = df_protein\n",
    "df = df[df[\"ratio\"] == \"PR3\"]\n",
    "\n",
    "df_subset = df[df[\"diet\"] == \"NR\"]\n",
    "df_NR = df_subset.pivot(index=\"rat\", columns=\"day\")[\"breakpoint\"]\n",
    "\n",
    "df_subset = df[df[\"diet\"] == \"PR\"]\n",
    "df_PR = df_subset.pivot(index=\"rat\", columns=\"day\")[\"breakpoint\"]\n",
    "\n",
    "NR_protein = tp.mean_and_sem(df_NR.mean(axis=1))\n",
    "PR_protein = tp.mean_and_sem(df_PR.mean(axis=1))\n",
    "\n",
    "# gets data from repleted sessions\n",
    "df = df_protein\n",
    "df = df[df[\"ratio\"] == \"PR3-rep\"]\n",
    "\n",
    "df_subset = df[(df[\"diet\"] == \"PR-NR\") & (df[\"pellet\"] == \"protein\")]\n",
    "df_PRep_prot = df_subset.pivot(index=\"rat\", columns=\"day\")[\"breakpoint\"]\n",
    "\n",
    "df_subset = df[(df[\"diet\"] == \"PR-NR\") & (df[\"pellet\"] == \"grain\")]\n",
    "df_PRep_grain = df_subset.pivot(index=\"rat\", columns=\"day\")[\"breakpoint\"]\n",
    "\n",
    "PRep_protein = tp.mean_and_sem(df_PRep_prot.mean(axis=1))\n",
    "PRep_grain = tp.mean_and_sem(df_PRep_grain.mean(axis=1))\n",
    "\n",
    "# plots bar chart\n",
    "f, ax = plt.subplots()\n",
    "ax.bar(1, NR_grain[0], yerr=NR_grain[1], color=\"xkcd:light grey\", hatch=\"/\", label=\"Grain\")\n",
    "ax.bar(2, NR_protein[0], yerr=NR_protein[1], color=\"xkcd:light grey\", label=\"Protein\")\n",
    "\n",
    "ax.bar(4, PR_grain[0], yerr=PR_grain[1], color=\"yellow\", hatch=\"/\")\n",
    "ax.bar(5, PR_protein[0], yerr=PR_protein[1], color=\"yellow\")\n",
    "\n",
    "ax.bar(7, PRep_grain[0], yerr=PRep_grain[1], color=\"xkcd:pale yellow\", hatch=\"/\")\n",
    "ax.bar(8, PRep_protein[0], yerr=PRep_protein[1], color=\"xkcd:pale yellow\")\n",
    "\n",
    "ax.set_ylabel(\"Breakpoint\")\n",
    "ax.set_xticks([1.5, 4.5, 7.5])\n",
    "ax.set_xticklabels([\"NR\", \"PR\", \"PRep\"])\n",
    "ax.legend()"
   ]
  },
  {
   "cell_type": "code",
   "execution_count": null,
   "id": "2abd4a40",
   "metadata": {},
   "outputs": [],
   "source": []
  },
  {
   "cell_type": "code",
   "execution_count": null,
   "id": "7a294bd9",
   "metadata": {},
   "outputs": [],
   "source": []
  }
 ],
 "metadata": {
  "kernelspec": {
   "display_name": "Python 3",
   "language": "python",
   "name": "python3"
  },
  "language_info": {
   "codemirror_mode": {
    "name": "ipython",
    "version": 3
   },
   "file_extension": ".py",
   "mimetype": "text/x-python",
   "name": "python",
   "nbconvert_exporter": "python",
   "pygments_lexer": "ipython3",
   "version": "3.9.1"
  }
 },
 "nbformat": 4,
 "nbformat_minor": 5
}
