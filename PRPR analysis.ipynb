{
 "cells": [
  {
   "cell_type": "markdown",
   "id": "7baf0e40",
   "metadata": {},
   "source": [
    "### Data and code for Chiacchierini et al (2022). Restriction of dietary protein in rats increases progressive-ratio motivation for protein."
   ]
  },
  {
   "cell_type": "markdown",
   "id": "6ac2617a",
   "metadata": {},
   "source": [
    "This notebook contains code that will download data from a repository and extract parameters into pandas dataframes. Figures from the paper are also recreated using matplotlib.\n",
    "\n",
    "The raw datafiles are Med Associates files in the stripped format. Timestamps of individual lever presses and reward deliveries are included in the raw datafiles and can be extracted but are not used here."
   ]
  },
  {
   "cell_type": "code",
   "execution_count": 3,
   "id": "4df96dbd",
   "metadata": {},
   "outputs": [],
   "source": [
    "import numpy as np\n",
    "import trompy as tp\n",
    "import pandas as pd\n",
    "\n",
    "import matplotlib.pyplot as plt\n",
    "\n",
    "from lifelines import KaplanMeierFitter\n",
    "\n",
    "%matplotlib inline"
   ]
  },
  {
   "cell_type": "markdown",
   "id": "f1e60ade",
   "metadata": {},
   "source": [
    "#### Downloading data"
   ]
  },
  {
   "cell_type": "code",
   "execution_count": 4,
   "id": "7c818609",
   "metadata": {},
   "outputs": [
    {
     "name": "stdout",
     "output_type": "stream",
     "text": [
      "C:\\Github\\PRPR\n",
      "downloading data...\n",
      "...100%, 1 MB, 4534 KB/s, 0 seconds elapsedunzipping data...\n",
      "Datafiles ready\n"
     ]
    }
   ],
   "source": [
    "tp.download_data(url = \"https://www.mccutcheonlab.com/s/PRPR_data.zip\")"
   ]
  },
  {
   "cell_type": "markdown",
   "id": "67b40ea9",
   "metadata": {},
   "source": [
    "#### Extraction of data for experiment 1 (grain pellets)\n",
    "Data are stored in pandas dataframe, *df_grain*"
   ]
  },
  {
   "cell_type": "code",
   "execution_count": 4,
   "id": "6a74722e",
   "metadata": {},
   "outputs": [
    {
     "name": "stdout",
     "output_type": "stream",
     "text": [
      "File is excel file. Making csv metafile first\n",
      "For PPR2.7 day 3.0, 1.0 does not equal 0.0\n",
      "For PPR2.7 day 3.0, 1.0 does not equal 0.0\n"
     ]
    }
   ],
   "source": [
    "rows, header = tp.metafilereader(\".\\\\data\\\\PRPR_metafiles.xls\", sheetname='metafile_exp1')\n",
    "\n",
    "filestub = \".//data//PRPR_exp1//\"\n",
    "\n",
    "columns = [\"rat\", \"diet\", \"ratio\", \"day\", \"pellet\", \"responses\", \"rewards\", \"breakpoint\", \"stopped\"]\n",
    "df = pd.DataFrame(columns=columns)\n",
    "\n",
    "FR_sessions = [\"FR1\", \"FR2\", \"FR5\", \"PR3\"]\n",
    "\n",
    "for row in rows:\n",
    "    if row[6] in FR_sessions:\n",
    "        try:\n",
    "            temp = [row[1], row[4], row[6], row[2], row[7]]\n",
    "            resps, rewards, stop, breakp = tp.medfilereader(filestub + row[0], varsToExtract=[\"a\", \"c\", \"t\", \"x\"])\n",
    "            temp.append(resps[0])\n",
    "            temp.append(rewards[0])\n",
    "            if resps[0] != row[8]:\n",
    "                print(\"For {} day {}, {} does not equal {}\".format(row[1], row[2], resps[0], row[8]))\n",
    "            if rewards[0] != row[9]:\n",
    "                print(\"For {} day {}, {} does not equal {}\".format(row[1], row[2], rewards[0], row[9]))\n",
    "\n",
    "            temp.append(breakp[0])\n",
    "            temp.append(stop[0])\n",
    "\n",
    "            df.loc[df.shape[0]] = temp\n",
    "        except FileNotFoundError:\n",
    "            print(row[0], \"cannot be found. Check\", row[1], row[2])\n",
    "\n",
    "df = df[df.rat != \"PPR2.4\"]\n",
    "df_grain = df\n"
   ]
  },
  {
   "cell_type": "code",
   "execution_count": 5,
   "id": "fb250dd8",
   "metadata": {},
   "outputs": [
    {
     "name": "stdout",
     "output_type": "stream",
     "text": [
      "File is excel file. Making csv metafile first\n"
     ]
    }
   ],
   "source": [
    "rows, header = tp.metafilereader(\".\\\\data\\\\PRPR_metafiles.xls\", sheetname='freeaccess_exp1')\n",
    "\n",
    "df = pd.DataFrame(columns=[\"rat\", \"diet\", \"d1\", \"d2\", \"mean\"])\n",
    "\n",
    "for row in rows:\n",
    "    temp = [row[0], row[1], row[2], row[3], np.mean([row[2], row[3]])]\n",
    "    df.loc[df.shape[0]] = temp\n",
    "    \n",
    "df = df[df.rat != \"PPR2.4\"]\n",
    "df_grain_freeaccess = df"
   ]
  },
  {
   "cell_type": "markdown",
   "id": "6c5314bc",
   "metadata": {},
   "source": [
    "#### Extraction of data for experiment 2 (protein pellets)\n",
    "Data are stored in pandas dataframe, *df_protein*"
   ]
  },
  {
   "cell_type": "code",
   "execution_count": 6,
   "id": "ac7e430f",
   "metadata": {},
   "outputs": [
    {
     "name": "stdout",
     "output_type": "stream",
     "text": [
      "File is excel file. Making csv metafile first\n",
      "!2019-11-06_11h51m.Subject cPPR1.16 cannot be found. Check cPPR1.16 6.0\n",
      "!2019-11-08_09h06m.Subject cPPR1.1 cannot be found. Check cPPR1.1 8.0\n",
      "!2019-11-08_09h06m.Subject cPPR1.2 cannot be found. Check cPPR1.2 8.0\n",
      "!2019-11-08_09h57m.Subject cPPR1.3 cannot be found. Check cPPR1.3 8.0\n",
      "!2019-11-08_09h49m.Subject cPPR1.4 cannot be found. Check cPPR1.4 8.0\n",
      "!2019-11-08_10h46m.Subject cPPR1.5 cannot be found. Check cPPR1.5 8.0\n",
      "!2019-11-08_10h21m.Subject cPPR1.6 cannot be found. Check cPPR1.6 8.0\n",
      "!2019-11-08_11h36m.Subject cPPR1.7 cannot be found. Check cPPR1.7 8.0\n",
      "!2019-11-08_11h24m.Subject cPPR1.8 cannot be found. Check cPPR1.8 8.0\n",
      "!2019-11-08_09h06m.Subject cPPR1.9 cannot be found. Check cPPR1.9 8.0\n",
      "!2019-11-08_09h06m.Subject cPPR1.10 cannot be found. Check cPPR1.10 8.0\n",
      "!2019-11-08_09h57m.Subject cPPR1.11 cannot be found. Check cPPR1.11 8.0\n",
      "!2019-11-08_09h57m.Subject cPPR1.12 cannot be found. Check cPPR1.12 8.0\n",
      "!2019-11-08_10h48m.Subject cPPR1.13 cannot be found. Check cPPR1.13 8.0\n",
      "!2019-11-08_10h37m.Subject cPPR1.14 cannot be found. Check cPPR1.14 8.0\n",
      "!2019-11-08_11h34m.Subject cPPR1.15 cannot be found. Check cPPR1.15 8.0\n",
      "!2019-11-08_11h10m.Subject cPPR1.16 cannot be found. Check cPPR1.16 8.0\n",
      "!2019-11-14_09h45m.Subject cPPR1.1 cannot be found. Check cPPR1.1 12.0\n",
      "!2019-11-14_09h45m.Subject cPPR1.2 cannot be found. Check cPPR1.2 12.0\n",
      "!2019-11-14_10h36m.Subject cPPR1.3 cannot be found. Check cPPR1.3 12.0\n",
      "!2019-11-14_10h05m.Subject cPPR1.4 cannot be found. Check cPPR1.4 12.0\n",
      "!2019-11-14_11h26m.Subject cPPR1.5 cannot be found. Check cPPR1.5 12.0\n",
      "!2019-11-14_10h56m.Subject cPPR1.6 cannot be found. Check cPPR1.6 12.0\n",
      "!2019-11-14_12h16m.Subject cPPR1.7 cannot be found. Check cPPR1.7 12.0\n",
      "!2019-11-14_11h44m.Subject cPPR1.8 cannot be found. Check cPPR1.8 12.0\n",
      "!2019-11-14_09h45m.Subject cPPR1.9 cannot be found. Check cPPR1.9 12.0\n",
      "!2019-11-14_09h45m.Subject cPPR1.10 cannot be found. Check cPPR1.10 12.0\n",
      "!2019-11-14_10h36m.Subject cPPR1.11 cannot be found. Check cPPR1.11 12.0\n",
      "!2019-11-14_10h36m.Subject cPPR1.12 cannot be found. Check cPPR1.12 12.0\n",
      "!2019-11-14_11h26m.Subject cPPR1.13 cannot be found. Check cPPR1.13 12.0\n",
      "!2019-11-14_10h53m.Subject cPPR1.14 cannot be found. Check cPPR1.14 12.0\n",
      "!2019-11-14_12h14m.Subject cPPR1.15 cannot be found. Check cPPR1.15 12.0\n",
      "!2019-11-14_11h44m.Subject cPPR1.16 cannot be found. Check cPPR1.16 12.0\n",
      "!2019-11-19_09h24m.Subject cPPR1.1 cannot be found. Check cPPR1.1 15.0\n",
      "!2019-11-19_09h24m.Subject cPPR1.2 cannot be found. Check cPPR1.2 15.0\n",
      "!2019-11-19_10h15m.Subject cPPR1.3 cannot be found. Check cPPR1.3 15.0\n",
      "!2019-11-19_09h50m.Subject cPPR1.4 cannot be found. Check cPPR1.4 15.0\n",
      "!2019-11-19_11h08m.Subject cPPR1.5 cannot be found. Check cPPR1.5 15.0\n",
      "!2019-11-19_10h42m.Subject cPPR1.6 cannot be found. Check cPPR1.6 15.0\n",
      "!2019-11-19_11h50m.Subject cPPR1.7 cannot be found. Check cPPR1.7 15.0\n",
      "!2019-11-19_11h27m.Subject cPPR1.8 cannot be found. Check cPPR1.8 15.0\n",
      "!2019-11-19_09h24m.Subject cPPR1.9 cannot be found. Check cPPR1.9 15.0\n",
      "!2019-11-19_09h24m.Subject cPPR1.10 cannot be found. Check cPPR1.10 15.0\n",
      "!2019-11-19_10h15m.Subject cPPR1.11 cannot be found. Check cPPR1.11 15.0\n",
      "!2019-11-19_10h15m.Subject cPPR1.12 cannot be found. Check cPPR1.12 15.0\n",
      "!2019-11-19_11h03m.Subject cPPR1.13 cannot be found. Check cPPR1.13 15.0\n",
      "!2019-11-19_10h38m.Subject cPPR1.14 cannot be found. Check cPPR1.14 15.0\n",
      "!2019-11-19_11h54m.Subject cPPR1.15 cannot be found. Check cPPR1.15 15.0\n",
      "!2019-11-19_11h31m.Subject cPPR1.16 cannot be found. Check cPPR1.16 15.0\n",
      "For cPPR1.14 day 16.0, [33.0] does not equal 31.0\n",
      "For cPPR1.7 day 19.0, [356.0] does not equal 229.0\n",
      "For cPPR1.7 day 19.0, [15.0] does not equal 12.0\n",
      "!2019-12-18_13h11m.Subject cPPR1.8 cannot be found. Check cPPR1.8 30.0\n"
     ]
    }
   ],
   "source": [
    "rows, header = tp.metafilereader(\".\\\\data\\\\PRPR_metafiles.xls\", sheetname='metafile_exp2')\n",
    "\n",
    "filestub = \".//data//PRPR_exp2//\"\n",
    "\n",
    "columns = [\"rat\", \"diet\", \"ratio\", \"day\", \"pellet\", \"responses\", \"rewards\", \"breakpoint\", \"stopped\"]\n",
    "df = pd.DataFrame(columns=columns)\n",
    "\n",
    "FR_sessions = [\"FR1\", \"FR2\", \"FR5\", \"PR3\", \"PR3-rep\"]\n",
    "\n",
    "for row in rows:\n",
    "    if row[6] in FR_sessions:\n",
    "        try:\n",
    "            temp = [row[1], row[4], row[6], row[2], row[7]]\n",
    "            resps, rewards, stop, breakp = tp.medfilereader(filestub + row[0], varsToExtract=[\"a\", \"c\", \"t\", \"x\"])\n",
    "            temp.append(resps[0])\n",
    "            temp.append(rewards[0])\n",
    "            if resps[0] != row[8]:\n",
    "                print(\"For {} day {}, {} does not equal {}\".format(row[1], row[2], resps, row[8]))\n",
    "            if rewards[0] != row[9]:\n",
    "                print(\"For {} day {}, {} does not equal {}\".format(row[1], row[2], rewards, row[9]))\n",
    "\n",
    "            temp.append(breakp[0])\n",
    "            temp.append(stop[0])\n",
    "\n",
    "            df.loc[df.shape[0]] = temp\n",
    "            \n",
    "        except FileNotFoundError:\n",
    "            print(row[0], \"cannot be found. Check\", row[1], row[2])\n",
    "                       \n",
    "df = df[df.rat != \"cPPR1.9\"]      \n",
    "df_protein = df"
   ]
  },
  {
   "cell_type": "code",
   "execution_count": 7,
   "id": "c7789a99",
   "metadata": {},
   "outputs": [
    {
     "name": "stdout",
     "output_type": "stream",
     "text": [
      "File is excel file. Making csv metafile first\n"
     ]
    }
   ],
   "source": [
    "rows, header = tp.metafilereader(\".\\\\data\\\\PRPR_metafiles.xls\", sheetname='freeaccess_exp2')\n",
    "\n",
    "df = pd.DataFrame(columns=[\"rat\", \"diet\", \"d1\", \"d2\", \"mean\"])\n",
    "\n",
    "for row in rows:\n",
    "    temp = [row[0], row[1], row[2], row[3], np.mean([row[2], row[3]])]\n",
    "    df.loc[df.shape[0]] = temp\n",
    "    \n",
    "df = df[df.rat != \"cPPR1.9\"]\n",
    "df_protein_freeaccess = df"
   ]
  },
  {
   "cell_type": "markdown",
   "id": "6b62be29",
   "metadata": {},
   "source": [
    "#### Writes dataframes to an Excel sheet, *output.xlsx*"
   ]
  },
  {
   "cell_type": "code",
   "execution_count": 8,
   "id": "0101eee4",
   "metadata": {},
   "outputs": [],
   "source": [
    "with pd.ExcelWriter('output.xlsx') as writer:\n",
    "    df_grain.to_excel(writer, sheet_name='grain')\n",
    "    df_grain_freeaccess.to_excel(writer, sheet_name='grain_freeaccess')\n",
    "    df_protein.to_excel(writer, sheet_name='protein')\n",
    "    df_protein_freeaccess.to_excel(writer, sheet_name='protein_freeaccess')"
   ]
  },
  {
   "cell_type": "markdown",
   "id": "b4314f2a",
   "metadata": {},
   "source": [
    "#### Function for making fixed ratio figures (1B and 2B)"
   ]
  },
  {
   "cell_type": "code",
   "execution_count": 9,
   "id": "2fe11daa",
   "metadata": {},
   "outputs": [],
   "source": [
    "def make_FR_figure(df, colors = [\"red\", \"grey\"]):\n",
    "\n",
    "    df = df[df[\"ratio\"] != \"PR3\"]\n",
    "\n",
    "    df_subset = df[df[\"diet\"] == \"PR\"]\n",
    "    df_PR = df_subset.pivot(index=\"rat\", columns=\"day\")[\"responses\"]\n",
    "\n",
    "    df_subset = df[df[\"diet\"] == \"NR\"]\n",
    "    df_NR = df_subset.pivot(index=\"rat\", columns=\"day\")[\"responses\"]\n",
    "\n",
    "    PR_mean = df_PR.mean(axis=0)\n",
    "    PR_sem = df_PR.sem(axis=0)\n",
    "\n",
    "    NR_mean = df_NR.mean(axis=0)\n",
    "    NR_sem = df_NR.sem(axis=0)\n",
    "\n",
    "    FR1x = np.arange(1,6)\n",
    "    FR2x = np.arange(6,12)\n",
    "    FR5x = np.arange(12,18)\n",
    "\n",
    "    f, ax = plt.subplots()\n",
    "    ax.errorbar(FR1x, PR_mean[:6], yerr=PR_sem[:6], color=colors[0], label=\"PR\")\n",
    "    ax.errorbar(FR2x, PR_mean[6:11], yerr=PR_sem[6:11], color=colors[0])\n",
    "    ax.errorbar(FR5x, PR_mean[11:], yerr=PR_sem[11:], color=colors[0])\n",
    "\n",
    "    ax.errorbar(FR1x, NR_mean[:6], yerr=NR_sem[:6], color=colors[1], label=\"NR\")\n",
    "    ax.errorbar(FR2x, NR_mean[6:11], yerr=NR_sem[6:11], color=colors[1])\n",
    "    ax.errorbar(FR5x, NR_mean[11:], yerr=NR_sem[11:], color=colors[1])\n",
    "\n",
    "    ax.set_ylabel(\"Responses\")\n",
    "    ax.set_xticks([3, 9, 15])\n",
    "    ax.set_xticklabels([\"FR1\", \"FR2\", \"FR5\"])\n",
    "\n",
    "    ax.legend(loc=\"upper left\")\n"
   ]
  },
  {
   "cell_type": "code",
   "execution_count": 10,
   "id": "462cc898",
   "metadata": {},
   "outputs": [],
   "source": [
    "# Function for making progressive ratio figures (1C,D and 2C, D)\n",
    "\n",
    "def make_PR_figure(df, colors=[\"grey\", \"red\"]):\n",
    "    \n",
    "    df = df[df[\"ratio\"] == \"PR3\"]\n",
    "\n",
    "    df_subset = df[df[\"diet\"] == \"NR\"]\n",
    "    df_NR = df_subset.pivot(index=\"rat\", columns=\"day\")[\"breakpoint\"]\n",
    "\n",
    "    df_subset = df[df[\"diet\"] == \"PR\"]\n",
    "    df_PR = df_subset.pivot(index=\"rat\", columns=\"day\")[\"breakpoint\"]\n",
    "\n",
    "    NRx = np.arange(1, 6)\n",
    "    PRx = np.arange(7, 12)\n",
    "\n",
    "    f, [ax1, ax2] = plt.subplots(ncols=2, sharey=True, gridspec_kw={'width_ratios':[2,1]})\n",
    "\n",
    "    ax1.bar(NRx, df_NR.mean(), color=colors[0], label=\"NR\")\n",
    "    ax1.bar(PRx, df_PR.mean(), color=colors[1], label=\"PR\")\n",
    "\n",
    "    for rat in df_NR.iterrows():\n",
    "        ax1.plot(NRx, rat[1], color=\"xkcd:light grey\")\n",
    "\n",
    "    for rat in df_PR.iterrows():\n",
    "        ax1.plot(PRx, rat[1], color=\"xkcd:light grey\")\n",
    "\n",
    "    ax1.set_ylabel(\"Breakpoint\")\n",
    "    ax1.set_xlabel(\"Session\")\n",
    "    ax1.set_xticks([1,2,3,4,5,7,8,9,10,11])\n",
    "    ax1.set_xticklabels([str(x) for x in NRx]*2)\n",
    "    ax1.legend()\n",
    "\n",
    "    tp.barscatter([df_NR.mean(axis=1), df_PR.mean(axis=1)], spaced=True, barwidth=0.8,\n",
    "                  barfacecoloroption=\"individual\", barfacecolor=colors, \n",
    "                  barlabels=[\"NR\", \"PR\"], ax=ax2)\n"
   ]
  },
  {
   "cell_type": "code",
   "execution_count": 11,
   "id": "cd3db803",
   "metadata": {},
   "outputs": [],
   "source": [
    "# Functions for making duration survival graphs\n",
    "\n",
    "def get_step_values(df):\n",
    "    \n",
    "    df_new = pd.DataFrame(df.mean(axis=1), columns=[\"mean\"])\n",
    "    df_new[\"min\"] = df.min(axis=1)\n",
    "    df_new[\"max\"] = df.max(axis=1)\n",
    "\n",
    "    df_sorted = df_new.sort_values(\"mean\")\n",
    "\n",
    "    x = [0] + list(df_sorted[\"mean\"])\n",
    "    y = [1] + list(np.linspace(1,0,len(x))[:-1])\n",
    "    \n",
    "    return x, y\n",
    "\n",
    "def make_duration_figure(df, colors=[\"grey\", \"red\"]):\n",
    "\n",
    "    df = df[df[\"ratio\"] == \"PR3\"]\n",
    "\n",
    "    df_subset = df[df[\"diet\"] == \"NR\"]\n",
    "    df_NR = df_subset.pivot(index=\"rat\", columns=\"day\")[\"stopped\"]\n",
    "\n",
    "    df_subset = df[df[\"diet\"] == \"PR\"]\n",
    "    df_PR = df_subset.pivot(index=\"rat\", columns=\"day\")[\"stopped\"]\n",
    "    \n",
    "    NRx, _ = get_step_values(df_NR)\n",
    "    PRx, _ = get_step_values(df_PR)\n",
    "\n",
    "    f, ax = plt.subplots()\n",
    "\n",
    "    T = [x/60 for x in NRx[1:]]\n",
    "    Q = [x/60 for x in PRx[1:]]\n",
    "\n",
    "    kmf_T = KaplanMeierFitter()\n",
    "    kmf_Q = KaplanMeierFitter()\n",
    "    kmf_T.fit(T)\n",
    "    kmf_T.plot(color=colors[0], ax=ax, label=\"NR\")\n",
    "    kmf_Q.fit(Q)\n",
    "    kmf_Q.plot(color=colors[1], ax=ax, label=\"PR\")\n",
    "    \n",
    "    ax.set_ylabel(\"Survival probability\")\n",
    "    ax.set_xlabel(\"Session duration\")"
   ]
  },
  {
   "cell_type": "code",
   "execution_count": 12,
   "id": "4e9bf0a3",
   "metadata": {},
   "outputs": [],
   "source": [
    "# Function for making free acess intake graph\n",
    "\n",
    "def make_freeaccess_figure(df, colors=[\"grey\", \"red\"]):\n",
    "    df_NR = df[df[\"diet\"] == \"NR\"][\"mean\"]\n",
    "    df_PR = df[df[\"diet\"] == \"PR\"][\"mean\"]\n",
    "    \n",
    "    f, ax = plt.subplots(figsize=(1.5, 4))\n",
    "    \n",
    "    tp.barscatter([df_NR, df_PR],\n",
    "                  barlabels=[\"NR\", \"PR\"],\n",
    "                  barfacecoloroption=\"individual\",\n",
    "                  barfacecolor=colors,\n",
    "                  spaced=True,\n",
    "                  ax=ax)\n",
    "    \n",
    "    ax.set_ylabel(\"Intake (g)\")\n",
    "    ax.set_yticks([0,1,2,3,4,5])"
   ]
  },
  {
   "cell_type": "markdown",
   "id": "9cbe907c",
   "metadata": {},
   "source": [
    "# Figures"
   ]
  },
  {
   "cell_type": "markdown",
   "id": "55d8e403",
   "metadata": {},
   "source": [
    "#### Figure 1B"
   ]
  },
  {
   "cell_type": "code",
   "execution_count": 13,
   "id": "493b645c",
   "metadata": {},
   "outputs": [
    {
     "data": {
      "image/png": "[encoded data removed]",
      "text/plain": [
       "<Figure size 432x288 with 1 Axes>"
      ]
     },
     "metadata": {
      "needs_background": "light"
     },
     "output_type": "display_data"
    }
   ],
   "source": [
    "make_FR_figure(df_grain)"
   ]
  },
  {
   "cell_type": "markdown",
   "id": "483f915e",
   "metadata": {},
   "source": [
    "#### Figure 1C and 1D"
   ]
  },
  {
   "cell_type": "code",
   "execution_count": 14,
   "id": "1d166e57",
   "metadata": {},
   "outputs": [
    {
     "name": "stderr",
     "output_type": "stream",
     "text": [
      "C:\\Users\\jmc010\\Miniconda3\\lib\\site-packages\\numpy\\core\\_asarray.py:102: VisibleDeprecationWarning: Creating an ndarray from ragged nested sequences (which is a list-or-tuple of lists-or-tuples-or ndarrays with different lengths or shapes) is deprecated. If you meant to do this, you must specify 'dtype=object' when creating the ndarray.\n",
      "  return array(a, dtype, copy=False, order=order)\n"
     ]
    },
    {
     "data": {
      "image/png": "[encoded data removed]",
      "text/plain": [
       "<Figure size 432x288 with 2 Axes>"
      ]
     },
     "metadata": {
      "needs_background": "light"
     },
     "output_type": "display_data"
    }
   ],
   "source": [
    "make_PR_figure(df_grain)"
   ]
  },
  {
   "cell_type": "markdown",
   "id": "5fd899c2",
   "metadata": {},
   "source": [
    "#### Figure 1E"
   ]
  },
  {
   "cell_type": "code",
   "execution_count": 15,
   "id": "9be5630d",
   "metadata": {},
   "outputs": [
    {
     "data": {
      "image/png": "[encoded data removed]",
      "text/plain": [
       "<Figure size 432x288 with 1 Axes>"
      ]
     },
     "metadata": {
      "needs_background": "light"
     },
     "output_type": "display_data"
    }
   ],
   "source": [
    "make_duration_figure(df_grain)"
   ]
  },
  {
   "cell_type": "markdown",
   "id": "e3c19871",
   "metadata": {},
   "source": [
    "#### Figure 1F"
   ]
  },
  {
   "cell_type": "code",
   "execution_count": 16,
   "id": "04fd4210",
   "metadata": {},
   "outputs": [
    {
     "name": "stderr",
     "output_type": "stream",
     "text": [
      "C:\\Users\\jmc010\\Miniconda3\\lib\\site-packages\\numpy\\core\\_asarray.py:102: VisibleDeprecationWarning: Creating an ndarray from ragged nested sequences (which is a list-or-tuple of lists-or-tuples-or ndarrays with different lengths or shapes) is deprecated. If you meant to do this, you must specify 'dtype=object' when creating the ndarray.\n",
      "  return array(a, dtype, copy=False, order=order)\n"
     ]
    },
    {
     "data": {
      "image/png": "[encoded data removed]",
      "text/plain": [
       "<Figure size 108x288 with 1 Axes>"
      ]
     },
     "metadata": {
      "needs_background": "light"
     },
     "output_type": "display_data"
    }
   ],
   "source": [
    "make_freeaccess_figure(df_grain_freeaccess)"
   ]
  },
  {
   "cell_type": "markdown",
   "id": "fbfe4acd",
   "metadata": {},
   "source": [
    "#### Figure 2B"
   ]
  },
  {
   "cell_type": "code",
   "execution_count": 17,
   "id": "8f282aaa",
   "metadata": {},
   "outputs": [],
   "source": [
    "# waiting for all data\n",
    "# make_FR_figure(df_protein, colors=[\"orange\", \"grey\"])"
   ]
  },
  {
   "cell_type": "markdown",
   "id": "6017756f",
   "metadata": {},
   "source": [
    "#### Figure 2C and 2D"
   ]
  },
  {
   "cell_type": "code",
   "execution_count": 18,
   "id": "e72e395f",
   "metadata": {},
   "outputs": [
    {
     "name": "stderr",
     "output_type": "stream",
     "text": [
      "C:\\Users\\jmc010\\Miniconda3\\lib\\site-packages\\numpy\\core\\_asarray.py:102: VisibleDeprecationWarning: Creating an ndarray from ragged nested sequences (which is a list-or-tuple of lists-or-tuples-or ndarrays with different lengths or shapes) is deprecated. If you meant to do this, you must specify 'dtype=object' when creating the ndarray.\n",
      "  return array(a, dtype, copy=False, order=order)\n"
     ]
    },
    {
     "data": {
      "image/png": "[encoded data removed]",
      "text/plain": [
       "<Figure size 432x288 with 2 Axes>"
      ]
     },
     "metadata": {
      "needs_background": "light"
     },
     "output_type": "display_data"
    }
   ],
   "source": [
    "make_PR_figure(df_protein, colors=[\"grey\", \"orange\"])"
   ]
  },
  {
   "cell_type": "markdown",
   "id": "97c66db5",
   "metadata": {},
   "source": [
    "#### Figure 2E"
   ]
  },
  {
   "cell_type": "code",
   "execution_count": 19,
   "id": "9499f9e1",
   "metadata": {},
   "outputs": [
    {
     "data": {
      "image/png": "[encoded data removed]",
      "text/plain": [
       "<Figure size 432x288 with 1 Axes>"
      ]
     },
     "metadata": {
      "needs_background": "light"
     },
     "output_type": "display_data"
    }
   ],
   "source": [
    "make_duration_figure(df_protein, colors=[\"grey\", \"yellow\"])"
   ]
  },
  {
   "cell_type": "markdown",
   "id": "18d774f7",
   "metadata": {},
   "source": [
    "#### Figure 2F"
   ]
  },
  {
   "cell_type": "code",
   "execution_count": 20,
   "id": "18b0fa03",
   "metadata": {},
   "outputs": [
    {
     "name": "stderr",
     "output_type": "stream",
     "text": [
      "C:\\Users\\jmc010\\Miniconda3\\lib\\site-packages\\numpy\\core\\_asarray.py:102: VisibleDeprecationWarning: Creating an ndarray from ragged nested sequences (which is a list-or-tuple of lists-or-tuples-or ndarrays with different lengths or shapes) is deprecated. If you meant to do this, you must specify 'dtype=object' when creating the ndarray.\n",
      "  return array(a, dtype, copy=False, order=order)\n"
     ]
    },
    {
     "data": {
      "image/png": "[encoded data removed]",
      "text/plain": [
       "<Figure size 108x288 with 1 Axes>"
      ]
     },
     "metadata": {
      "needs_background": "light"
     },
     "output_type": "display_data"
    }
   ],
   "source": [
    "make_freeaccess_figure(df_protein_freeaccess, colors=[\"grey\", \"yellow\"])"
   ]
  },
  {
   "cell_type": "markdown",
   "id": "1d63d09b",
   "metadata": {},
   "source": [
    "#### Figure 3"
   ]
  },
  {
   "cell_type": "code",
   "execution_count": 21,
   "id": "2a76e92b",
   "metadata": {},
   "outputs": [
    {
     "data": {
      "text/plain": [
       "<matplotlib.legend.Legend at 0x272715422b0>"
      ]
     },
     "execution_count": 21,
     "metadata": {},
     "output_type": "execute_result"
    },
    {
     "data": {
      "image/png": "[encoded data removed]",
      "text/plain": [
       "<Figure size 432x288 with 1 Axes>"
      ]
     },
     "metadata": {
      "needs_background": "light"
     },
     "output_type": "display_data"
    }
   ],
   "source": [
    "df = df_protein\n",
    "colors = [\"grey\", \"yellow\"]\n",
    "\n",
    "df = df[df[\"ratio\"] == \"PR3-rep\"]\n",
    "df_subset = df[df[\"diet\"] == \"NR\"]\n",
    "df_NR = df_subset.pivot(index=\"rat\", columns=\"day\")[\"breakpoint\"]\n",
    "\n",
    "df_subset = df[df[\"diet\"] != \"NR\"]\n",
    "df_PR = df_subset.pivot(index=\"rat\", columns=\"day\")[\"breakpoint\"]\n",
    "\n",
    "NRx = np.arange(1, 8)\n",
    "PRx = np.arange(9, 16)\n",
    "\n",
    "f, ax = plt.subplots()\n",
    "\n",
    "ax.bar(NRx, df_NR.mean(), color=colors[0], label=\"NR\")\n",
    "ax.bar(PRx, df_PR.mean(), color=colors[1], label=\"PR\")\n",
    "\n",
    "for rat in df_NR.iterrows():\n",
    "    ax.plot(NRx, rat[1], color=\"xkcd:light grey\")\n",
    "\n",
    "for rat in df_PR.iterrows():\n",
    "    ax.plot(PRx, rat[1], color=\"xkcd:light grey\")\n",
    "\n",
    "ax.set_ylabel(\"Breakpoint\")\n",
    "ax.set_xlabel(\"Session\")\n",
    "ax.set_xticks([1,2,3,4,5,6,7,   9,10,11,12,13,14,15])\n",
    "ax.set_xticklabels([str(x) for x in NRx]*2)\n",
    "ax.legend()"
   ]
  },
  {
   "cell_type": "markdown",
   "id": "7c3da7cc",
   "metadata": {},
   "source": [
    "#### Figure 4"
   ]
  },
  {
   "cell_type": "code",
   "execution_count": 23,
   "id": "dbe6506e",
   "metadata": {
    "scrolled": true
   },
   "outputs": [
    {
     "data": {
      "text/plain": [
       "<matplotlib.legend.Legend at 0x27271651970>"
      ]
     },
     "execution_count": 23,
     "metadata": {},
     "output_type": "execute_result"
    },
    {
     "data": {
      "image/png": "[encoded data removed]",
      "text/plain": [
       "<Figure size 432x288 with 1 Axes>"
      ]
     },
     "metadata": {
      "needs_background": "light"
     },
     "output_type": "display_data"
    }
   ],
   "source": [
    "# gets data from grain pellet sessions\n",
    "df = df_grain\n",
    "df = df[df[\"ratio\"] == \"PR3\"]\n",
    "\n",
    "df_subset = df[df[\"diet\"] == \"NR\"]\n",
    "df_NR = df_subset.pivot(index=\"rat\", columns=\"day\")[\"breakpoint\"]\n",
    "\n",
    "df_subset = df[df[\"diet\"] == \"PR\"]\n",
    "df_PR = df_subset.pivot(index=\"rat\", columns=\"day\")[\"breakpoint\"]\n",
    "\n",
    "NR_grain = tp.mean_and_sem(df_NR.mean(axis=1))\n",
    "PR_grain = tp.mean_and_sem(df_PR.mean(axis=1))\n",
    "\n",
    "# gets data from protein pellet sessions\n",
    "df = df_protein\n",
    "df = df[df[\"ratio\"] == \"PR3\"]\n",
    "\n",
    "df_subset = df[df[\"diet\"] == \"NR\"]\n",
    "df_NR = df_subset.pivot(index=\"rat\", columns=\"day\")[\"breakpoint\"]\n",
    "\n",
    "df_subset = df[df[\"diet\"] == \"PR\"]\n",
    "df_PR = df_subset.pivot(index=\"rat\", columns=\"day\")[\"breakpoint\"]\n",
    "\n",
    "NR_protein = tp.mean_and_sem(df_NR.mean(axis=1))\n",
    "PR_protein = tp.mean_and_sem(df_PR.mean(axis=1))\n",
    "\n",
    "# gets data from repleted sessions\n",
    "df = df_protein\n",
    "df = df[df[\"ratio\"] == \"PR3-rep\"]\n",
    "\n",
    "df_subset = df[(df[\"diet\"] == \"PR-NR\") & (df[\"pellet\"] == \"protein\")]\n",
    "df_PRep_prot = df_subset.pivot(index=\"rat\", columns=\"day\")[\"breakpoint\"]\n",
    "\n",
    "df_subset = df[(df[\"diet\"] == \"PR-NR\") & (df[\"pellet\"] == \"grain\")]\n",
    "df_PRep_grain = df_subset.pivot(index=\"rat\", columns=\"day\")[\"breakpoint\"]\n",
    "\n",
    "PRep_protein = tp.mean_and_sem(df_PRep_prot.mean(axis=1))\n",
    "PRep_grain = tp.mean_and_sem(df_PRep_grain.mean(axis=1))\n",
    "\n",
    "# plots bar chart\n",
    "f, ax = plt.subplots()\n",
    "ax.bar(1, NR_grain[0], yerr=NR_grain[1], color=\"xkcd:light grey\", hatch=\"/\", label=\"Grain\")\n",
    "ax.bar(2, NR_protein[0], yerr=NR_protein[1], color=\"xkcd:light grey\", label=\"Protein\")\n",
    "\n",
    "ax.bar(4, PR_grain[0], yerr=PR_grain[1], color=\"yellow\", hatch=\"/\")\n",
    "ax.bar(5, PR_protein[0], yerr=PR_protein[1], color=\"yellow\")\n",
    "\n",
    "ax.bar(7, PRep_grain[0], yerr=PRep_grain[1], color=\"xkcd:pale yellow\", hatch=\"/\")\n",
    "ax.bar(8, PRep_protein[0], yerr=PRep_protein[1], color=\"xkcd:pale yellow\")\n",
    "\n",
    "ax.set_ylabel(\"Breakpoint\")\n",
    "ax.set_xticks([1.5, 4.5, 7.5])\n",
    "ax.set_xticklabels([\"NR\", \"PR\", \"PRep\"])\n",
    "ax.legend()"
   ]
  },
  {
   "cell_type": "code",
   "execution_count": null,
   "id": "2abd4a40",
   "metadata": {},
   "outputs": [],
   "source": []
  }
 ],
 "metadata": {
  "kernelspec": {
   "display_name": "Python 3",
   "language": "python",
   "name": "python3"
  },
  "language_info": {
   "codemirror_mode": {
    "name": "ipython",
    "version": 3
   },
   "file_extension": ".py",
   "mimetype": "text/x-python",
   "name": "python",
   "nbconvert_exporter": "python",
   "pygments_lexer": "ipython3",
   "version": "3.9.1"
  }
 },
 "nbformat": 4,
 "nbformat_minor": 5
}
